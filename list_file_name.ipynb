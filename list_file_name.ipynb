{
 "cells": [
  {
   "cell_type": "code",
   "execution_count": 1,
   "metadata": {},
   "outputs": [],
   "source": [
    "import os,sys\n",
    "import codecs"
   ]
  },
  {
   "cell_type": "code",
   "execution_count": 4,
   "metadata": {},
   "outputs": [],
   "source": [
    "path = 'C:\\\\Users\\\\**'\n",
    "mylist = os.listdir(path)"
   ]
  },
  {
   "cell_type": "code",
   "execution_count": 7,
   "metadata": {},
   "outputs": [],
   "source": [
    "for file in mylist:\n",
    "\n",
    "  data = file.replace(\"\", \"\")\n",
    "  data_modified = data.replace(\"_\", \" \")\n",
    "\n",
    "  file = codecs.open(\"testfile.txt\",\"+a\",\"utf-8\")\n",
    "  file.write(data_modified+\"\\n\")\n",
    "  file.close()"
   ]
  },
  {
   "cell_type": "code",
   "execution_count": 40,
   "metadata": {},
   "outputs": [],
   "source": [
    "def list_all_file_name(root='C:\\\\Users\\\\xx',write_to=codecs.open('./default.txt','+w','utf-8'),\n",
    "                       recursion=True,indentation=''):\n",
    "    if os.path.isdir(root):\n",
    "        file_list=os.listdir(root)\n",
    "#         file=codecs.open('list_file.txt','+w','utf-8')\n",
    "        for file in file_list:\n",
    "            write_to.write(indentation + file+\"\\n\")\n",
    "            if os.path.isdir(root+\"\\\\\"+file) and recursion:\n",
    "                list_all_file_name(root+\"\\\\\"+file, write_to, indentation + \"  \")\n",
    "            \n",
    "    else:\n",
    "        write_to.write(indentation + file)\n",
    "        "
   ]
  },
  {
   "cell_type": "code",
   "execution_count": 37,
   "metadata": {
    "collapsed": true
   },
   "outputs": [
    
   ],
   "source": [
    "list_all_file_name(\"C:\\\\Users\\\\**\",codecs.open('list_file.txt','+w','utf-8'))"
   ]
  },
  {
   "cell_type": "code",
   "execution_count": 41,
   "metadata": {},
   "outputs": [],
   "source": [
    "list_all_file_name(\"D:\\github\",codecs.open('list_file.txt','+w','utf-8'), False)"
   ]
  },
  {
   "cell_type": "code",
   "execution_count": null,
   "metadata": {},
   "outputs": [],
   "source": []
  }
 ],
 "metadata": {
  "kernelspec": {
   "display_name": "Python 3",
   "language": "python",
   "name": "python3"
  },
  "language_info": {
   "codemirror_mode": {
    "name": "ipython",
    "version": 3
   },
   "file_extension": ".py",
   "mimetype": "text/x-python",
   "name": "python",
   "nbconvert_exporter": "python",
   "pygments_lexer": "ipython3",
   "version": "3.6.7"
  }
 },
 "nbformat": 4,
 "nbformat_minor": 2
}
